{
 "cells": [
  {
   "cell_type": "code",
   "execution_count": 37,
   "id": "29b4103c-609d-4407-b811-a21e3c19a311",
   "metadata": {},
   "outputs": [],
   "source": [
    "# Import the necessary libraries\n",
    "import cv2\n",
    "from deepface import DeepFace\n",
    "import matplotlib.pyplot as plt \n",
    "import math\n",
    "\n",
    "\n",
    "# Load the image\n",
    "image = 'im.jpg'\n",
    "\n",
    "from PIL import Image\n",
    "from IPython.display import display\n",
    "img = Image.open(image)\n",
    "\n",
    "\n",
    "\n"
   ]
  },
  {
   "cell_type": "code",
   "execution_count": 36,
   "id": "fa611c39-c7bd-42f7-a994-341404416fa9",
   "metadata": {},
   "outputs": [
    {
     "data": {
      "text/plain": [
       "array([[[253, 253, 253],\n",
       "        [253, 253, 253],\n",
       "        [253, 253, 253],\n",
       "        ...,\n",
       "        [255, 255, 255],\n",
       "        [255, 255, 255],\n",
       "        [255, 255, 255]],\n",
       "\n",
       "       [[253, 253, 253],\n",
       "        [253, 253, 253],\n",
       "        [253, 253, 253],\n",
       "        ...,\n",
       "        [255, 255, 255],\n",
       "        [255, 255, 255],\n",
       "        [255, 255, 255]],\n",
       "\n",
       "       [[253, 253, 253],\n",
       "        [253, 253, 253],\n",
       "        [253, 253, 253],\n",
       "        ...,\n",
       "        [255, 255, 255],\n",
       "        [255, 255, 255],\n",
       "        [255, 255, 255]],\n",
       "\n",
       "       ...,\n",
       "\n",
       "       [[112, 112, 112],\n",
       "        [254, 254, 254],\n",
       "        [250, 250, 250],\n",
       "        ...,\n",
       "        [255, 255, 255],\n",
       "        [255, 255, 255],\n",
       "        [255, 255, 255]],\n",
       "\n",
       "       [[112, 112, 112],\n",
       "        [254, 254, 254],\n",
       "        [250, 250, 250],\n",
       "        ...,\n",
       "        [255, 255, 255],\n",
       "        [255, 255, 255],\n",
       "        [255, 255, 255]],\n",
       "\n",
       "       [[112, 112, 112],\n",
       "        [254, 254, 254],\n",
       "        [250, 250, 250],\n",
       "        ...,\n",
       "        [255, 255, 255],\n",
       "        [255, 255, 255],\n",
       "        [255, 255, 255]]], dtype=uint8)"
      ]
     },
     "metadata": {},
     "output_type": "display_data"
    },
    {
     "name": "stdout",
     "output_type": "stream",
     "text": [
      "Emotions detected:Happy\n"
     ]
    }
   ],
   "source": [
    "\n",
    "display(img)\n",
    "img = cv2.imread(image)\n",
    "# plt.imshow(img) \n",
    "# Detect faces in the image\n",
    "faces = DeepFace.analyze(img, actions=['emotion'])\n",
    "\n",
    "# Print the detected emotions for each face\n",
    "dict = {}\n",
    "for face in faces:\n",
    "    print(\"Emotions detected:\",end=\"\")\n",
    "    for emotion, score in face['emotion'].items():\n",
    "        dict[math.floor(score)] = emotion\n",
    "        print(f\"{emotion}: {score}\")\n",
    "        \n",
    "Keymax = max(dict.keys())\n",
    "print(dict[Keymax].capitalize())"
   ]
  },
  {
   "cell_type": "code",
   "execution_count": null,
   "id": "f2054197-a1f9-4ba2-bc3b-566d78f22299",
   "metadata": {},
   "outputs": [],
   "source": []
  }
 ],
 "metadata": {
  "kernelspec": {
   "display_name": "Python 3 (ipykernel)",
   "language": "python",
   "name": "python3"
  },
  "language_info": {
   "codemirror_mode": {
    "name": "ipython",
    "version": 3
   },
   "file_extension": ".py",
   "mimetype": "text/x-python",
   "name": "python",
   "nbconvert_exporter": "python",
   "pygments_lexer": "ipython3",
   "version": "3.11.8"
  }
 },
 "nbformat": 4,
 "nbformat_minor": 5
}
